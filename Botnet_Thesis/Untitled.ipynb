{
 "cells": [
  {
   "cell_type": "code",
   "execution_count": 3,
   "metadata": {},
   "outputs": [],
   "source": [
    "#!/usr/bin/python\n",
    "# encoding=utf8\n",
    "from __future__ import division\n",
    "import os, sys\n",
    "import threading\n",
    "\n",
    "class Prepare(threading.Thread):\n",
    "    \n",
    "    def __init__(self, X, Y, XT, YT, accLabel=None):\n",
    "        threading.Thread.__init__(self)\n",
    "        self.X = X\n",
    "        self.Y = Y\n",
    "        self.XT=XT\n",
    "        self.YT=YT\n",
    "        self.accLabel= accLabel\n",
    "\n",
    "    def run(self):\n",
    "        X = np.zeros(self.X.shape)\n",
    "        Y = np.zeros(self.Y.shape)\n",
    "        XT = np.zeros(self.XT.shape)\n",
    "        YT = np.zeros(self.YT.shape)\n",
    "        np.copyto(X, self.X)\n",
    "        np.copyto(Y, self.Y)\n",
    "        np.copyto(XT, self.XT)\n",
    "        np.copyto(YT, self.YT)\n",
    "        for i in range(9):\n",
    "            X[:, i] = (X[:, i] - X[:, i].mean()) / (X[:, i].std())\n",
    "        for i in range(9):\n",
    "            XT[:, i] = (XT[:, i] - XT[:, i].mean()) / (XT[:, i].std())\n"
   ]
  },
  {
   "cell_type": "code",
   "execution_count": 1,
   "metadata": {},
   "outputs": [
    {
     "ename": "FileNotFoundError",
     "evalue": "[Errno 2] No such file or directory: 'flowdata.binetflow'",
     "output_type": "error",
     "traceback": [
      "\u001b[1;31m---------------------------------------------------------------------------\u001b[0m",
      "\u001b[1;31mFileNotFoundError\u001b[0m                         Traceback (most recent call last)",
      "\u001b[1;32m<ipython-input-1-e0bf9515c9f9>\u001b[0m in \u001b[0;36m<module>\u001b[1;34m\u001b[0m\n\u001b[0;32m      8\u001b[0m \u001b[1;32mfrom\u001b[0m \u001b[0msklearn\u001b[0m\u001b[1;33m.\u001b[0m\u001b[0mmetrics\u001b[0m \u001b[1;32mimport\u001b[0m \u001b[0mf1_score\u001b[0m\u001b[1;33m\u001b[0m\u001b[0m\n\u001b[0;32m      9\u001b[0m \u001b[0mwarnings\u001b[0m\u001b[1;33m.\u001b[0m\u001b[0mfilterwarnings\u001b[0m\u001b[1;33m(\u001b[0m\u001b[1;34m\"ignore\"\u001b[0m\u001b[1;33m)\u001b[0m\u001b[1;33m\u001b[0m\u001b[0m\n\u001b[1;32m---> 10\u001b[1;33m \u001b[0mLoadData\u001b[0m\u001b[1;33m.\u001b[0m\u001b[0mloaddata\u001b[0m\u001b[1;33m(\u001b[0m\u001b[1;34m'flowdata.binetflow'\u001b[0m\u001b[1;33m)\u001b[0m\u001b[1;33m\u001b[0m\u001b[0m\n\u001b[0m\u001b[0;32m     11\u001b[0m \u001b[0mfile\u001b[0m \u001b[1;33m=\u001b[0m \u001b[0mopen\u001b[0m\u001b[1;33m(\u001b[0m\u001b[1;34m'flowdata.pickle'\u001b[0m\u001b[1;33m,\u001b[0m \u001b[1;34m'rb'\u001b[0m\u001b[1;33m)\u001b[0m\u001b[1;33m\u001b[0m\u001b[0m\n\u001b[0;32m     12\u001b[0m \u001b[0mdata\u001b[0m  \u001b[1;33m=\u001b[0m \u001b[0mpickle\u001b[0m\u001b[1;33m.\u001b[0m\u001b[0mload\u001b[0m\u001b[1;33m(\u001b[0m\u001b[0mfile\u001b[0m\u001b[1;33m)\u001b[0m\u001b[1;33m\u001b[0m\u001b[0m\n",
      "\u001b[1;32mD:\\Thesis\\New folder\\Botnet_Thesis\\LoadData.py\u001b[0m in \u001b[0;36mloaddata\u001b[1;34m(fileName)\u001b[0m\n\u001b[0;32m      9\u001b[0m \u001b[1;33m\u001b[0m\u001b[0m\n\u001b[0;32m     10\u001b[0m \u001b[1;33m\u001b[0m\u001b[0m\n\u001b[1;32m---> 11\u001b[1;33m     \u001b[0mfile\u001b[0m \u001b[1;33m=\u001b[0m \u001b[0mopen\u001b[0m\u001b[1;33m(\u001b[0m\u001b[0mfileName\u001b[0m\u001b[1;33m,\u001b[0m \u001b[1;34m'r'\u001b[0m\u001b[1;33m)\u001b[0m\u001b[1;33m\u001b[0m\u001b[0m\n\u001b[0m\u001b[0;32m     12\u001b[0m     \u001b[0mit\u001b[0m \u001b[1;33m=\u001b[0m \u001b[1;36m10000000\u001b[0m\u001b[1;33m;\u001b[0m\u001b[1;33m\u001b[0m\u001b[0m\n\u001b[0;32m     13\u001b[0m \u001b[1;33m\u001b[0m\u001b[0m\n",
      "\u001b[1;31mFileNotFoundError\u001b[0m: [Errno 2] No such file or directory: 'flowdata.binetflow'"
     ]
    }
   ],
   "source": [
    "import LoadData\n",
    "import DataPreparation\n",
    "import pickle\n",
    "import warnings\n",
    "from sklearn.metrics import accuracy_score\n",
    "from sklearn.metrics import precision_score\n",
    "from sklearn.metrics import recall_score\n",
    "from sklearn.metrics import f1_score\n",
    "warnings.filterwarnings(\"ignore\")\n",
    "LoadData.loaddata('flowdata.binetflow')\n",
    "file = open('flowdata.pickle', 'rb')\n",
    "data  = pickle.load(file)\n",
    "Xdata = data[0]\n",
    "Ydata =  data[1]\n",
    "XdataT = data[2]\n",
    "YdataT = data[3]\n",
    "from sklearn.linear_model import *\n",
    "from sklearn.tree import *\n",
    "from sklearn.naive_bayes import *\n",
    "from sklearn.neighbors import *\n",
    "DataPreparation.Prepare(Xdata,Ydata,XdataT,YdataT)\n",
    "clf = DecisionTreeClassifier()\n",
    "clf.fit(Xdata,Ydata)\n",
    "Prediction = clf.predict(XdataT)\n",
    "Score = clf.score(XdataT,YdataT)\n",
    "Precision = precision_score(Prediction,YdataT)\n",
    "Recall = recall_score(Prediction,YdataT)\n",
    "Accuracy = accuracy_score(Prediction,YdataT)\n",
    "F1=f1_score(Prediction,YdataT)\n",
    "print (\"The Accuracy of the Decision Tree Classifier is\", Accuracy)\n",
    "print (\"The Score of the Decision Tree Classifier is\", Score * 100)\n",
    "print (\"The Precision of the Decision Tree Classifier is\", Precision)\n",
    "print (\"The Recall of the Decision Tree Classifier is\", Recall)\n",
    "print (\"The F1 Score of the Decision Tree Classifier is\", F1)\n",
    "clf = LogisticRegression(C=10000)\n",
    "clf.fit(Xdata,Ydata)\n",
    "Prediction = clf.predict(XdataT)\n",
    "Score = clf.score(XdataT,YdataT)\n",
    "Precision = precision_score(Prediction,YdataT)\n",
    "Recall = recall_score(Prediction,YdataT)\n",
    "Accuracy = accuracy_score(Prediction,YdataT)\n",
    "F1=f1_score(Prediction,YdataT)\n",
    "print (\"The Accuracy of the Logistic Regression Classifier is\", Accuracy)\n",
    "print (\"The Score of the Logistic Regression Classifier is\", Score * 100)\n",
    "print (\"The Precision of the Logistic Regression Classifier is\", Precision)\n",
    "print (\"The Recall of the Logistic Regression Classifier is\", Recall)\n",
    "print (\"The F1 Score of the Logistic Regression Classifier is\", F1)\n",
    "clf = GaussianNB()\n",
    "clf.fit(Xdata,Ydata)\n",
    "Prediction = clf.predict(XdataT)\n",
    "Score = clf.score(XdataT,YdataT)\n",
    "Precision = precision_score(Prediction,YdataT)\n",
    "Recall = recall_score(Prediction,YdataT)\n",
    "Accuracy = accuracy_score(Prediction,YdataT)\n",
    "F1=f1_score(Prediction,YdataT)\n",
    "print (\"The Accuracy of the Gaussian Naive Bayes Classifier is\", Accuracy)\n",
    "print(\"The Score of the Gaussian Naive Bayes classifier is\", Score * 100)\n",
    "print (\"The Precision of the Naive Bayes Classifier is\", Precision)\n",
    "print (\"The Recall of the Naive Bayes Classifier is\", Recall)\n",
    "print (\"The F1 Score of the Naive Bayes Classifier is\", F1)\n",
    "clf = KNeighborsClassifier()\n",
    "clf.fit(Xdata,Ydata)\n",
    "Prediction = clf.predict(XdataT)\n",
    "Score = clf.score(XdataT,YdataT)\n",
    "Precision = precision_score(Prediction,YdataT)\n",
    "Recall = recall_score(Prediction,YdataT)\n",
    "Accuracy = accuracy_score(Prediction,YdataT)\n",
    "F1=f1_score(Prediction,YdataT)\n",
    "print (\"The Accuracy of the K-Nearest Neighbours Classifier is\", Accuracy)\n",
    "print(\"The Score of the K-Nearest Neighbours classifier is\", Score * 100)\n",
    "print (\"The Precision of the K-Nearest Neighbours Classifier is\", Precision)\n",
    "print (\"The Recall of the K-Nearest Neighbours Classifier is\", Recall)\n",
    "print (\"The F1 Score of the K-Nearest Neighbours Classifier is\", F1)\n",
    "from keras.models import *\n",
    "from keras.layers import Dense, Activation\n",
    "from keras.optimizers import *\n",
    "model = Sequential()\n",
    "model.add(Dense(10, input_dim=8, activation=\"sigmoid\"))\n",
    "model.add(Dense(10, activation='sigmoid'))\n",
    "model.add(Dense(1))\n",
    "sgd = SGD(lr=0.01, decay=0.000001, momentum=0.9, nesterov=True) \n",
    "model.compile(optimizer=sgd, loss='mse')\n",
    "model.fit(Xdata, Ydata, nb_epoch=1000, batch_size=1000)\n",
    "Score = model.evaluate(XdataT, YdataT, verbose=0)\n",
    "Precision = precision_score(Prediction,YdataT)\n",
    "Recall = recall_score(Prediction,YdataT)\n",
    "Accuracy = accuracy_score(Prediction,YdataT)\n",
    "F1=f1_score(Prediction,YdataT)\n",
    "print (\"The Accuracy of the Neural Network Classifier is\", Accuracy)\n",
    "print(\"The Score of the Neural Network is\", Score * 100 )\n",
    "print (\"The Precision of the Neural Network Classifier is\", Precision)\n",
    "print (\"The Recall of the Neural Network Classifier is\", Recall)\n",
    "print (\"The F1 Score of the Neural Network Classifier is\", F1)\n"
   ]
  },
  {
   "cell_type": "code",
   "execution_count": null,
   "metadata": {},
   "outputs": [],
   "source": [
    "Prediction"
   ]
  },
  {
   "cell_type": "code",
   "execution_count": null,
   "metadata": {},
   "outputs": [],
   "source": [
    "YdataT"
   ]
  },
  {
   "cell_type": "code",
   "execution_count": null,
   "metadata": {},
   "outputs": [],
   "source": [
    "# Load libraries\n",
    "import numpy as np\n",
    "import matplotlib.pyplot as plt\n",
    "from sklearn.ensemble import RandomForestClassifier\n",
    "from sklearn.datasets import load_digits\n",
    "from sklearn.model_selection import learning_curve"
   ]
  },
  {
   "cell_type": "code",
   "execution_count": 2,
   "metadata": {},
   "outputs": [
    {
     "ename": "NameError",
     "evalue": "name 'load_digits' is not defined",
     "output_type": "error",
     "traceback": [
      "\u001b[1;31m---------------------------------------------------------------------------\u001b[0m",
      "\u001b[1;31mNameError\u001b[0m                                 Traceback (most recent call last)",
      "\u001b[1;32m<ipython-input-2-0644c150de1c>\u001b[0m in \u001b[0;36m<module>\u001b[1;34m\u001b[0m\n\u001b[0;32m      1\u001b[0m \u001b[1;31m# Load data\u001b[0m\u001b[1;33m\u001b[0m\u001b[1;33m\u001b[0m\u001b[0m\n\u001b[1;32m----> 2\u001b[1;33m \u001b[0mdigits\u001b[0m \u001b[1;33m=\u001b[0m \u001b[0mload_digits\u001b[0m\u001b[1;33m(\u001b[0m\u001b[1;33m)\u001b[0m\u001b[1;33m\u001b[0m\u001b[0m\n\u001b[0m\u001b[0;32m      3\u001b[0m \u001b[1;33m\u001b[0m\u001b[0m\n\u001b[0;32m      4\u001b[0m \u001b[1;31m# Create feature matrix and target vector\u001b[0m\u001b[1;33m\u001b[0m\u001b[1;33m\u001b[0m\u001b[0m\n\u001b[0;32m      5\u001b[0m \u001b[0mX\u001b[0m\u001b[1;33m,\u001b[0m \u001b[0my\u001b[0m \u001b[1;33m=\u001b[0m \u001b[0mdigits\u001b[0m\u001b[1;33m.\u001b[0m\u001b[0mdata\u001b[0m\u001b[1;33m,\u001b[0m \u001b[0mdigits\u001b[0m\u001b[1;33m.\u001b[0m\u001b[0mtarget\u001b[0m\u001b[1;33m\u001b[0m\u001b[0m\n",
      "\u001b[1;31mNameError\u001b[0m: name 'load_digits' is not defined"
     ]
    }
   ],
   "source": [
    "# Load data\n",
    "digits = load_digits()\n",
    "\n",
    "# Create feature matrix and target vector\n",
    "X, y = digits.data, digits.target"
   ]
  },
  {
   "cell_type": "code",
   "execution_count": 3,
   "metadata": {},
   "outputs": [
    {
     "ename": "NameError",
     "evalue": "name 'learning_curve' is not defined",
     "output_type": "error",
     "traceback": [
      "\u001b[1;31m---------------------------------------------------------------------------\u001b[0m",
      "\u001b[1;31mNameError\u001b[0m                                 Traceback (most recent call last)",
      "\u001b[1;32m<ipython-input-3-9d2f0afa981f>\u001b[0m in \u001b[0;36m<module>\u001b[1;34m\u001b[0m\n\u001b[0;32m      1\u001b[0m \u001b[1;31m# Create CV training and test scores for various training set sizes\u001b[0m\u001b[1;33m\u001b[0m\u001b[1;33m\u001b[0m\u001b[0m\n\u001b[1;32m----> 2\u001b[1;33m train_sizes, train_scores, test_scores = learning_curve(RandomForestClassifier(), \n\u001b[0m\u001b[0;32m      3\u001b[0m                                                         \u001b[0mX\u001b[0m\u001b[1;33m,\u001b[0m\u001b[1;33m\u001b[0m\u001b[0m\n\u001b[0;32m      4\u001b[0m                                                         \u001b[0my\u001b[0m\u001b[1;33m,\u001b[0m\u001b[1;33m\u001b[0m\u001b[0m\n\u001b[0;32m      5\u001b[0m                                                         \u001b[1;31m# Number of folds in cross-validation\u001b[0m\u001b[1;33m\u001b[0m\u001b[1;33m\u001b[0m\u001b[0m\n",
      "\u001b[1;31mNameError\u001b[0m: name 'learning_curve' is not defined"
     ]
    }
   ],
   "source": [
    "# Create CV training and test scores for various training set sizes\n",
    "train_sizes, train_scores, test_scores = learning_curve(RandomForestClassifier(), \n",
    "                                                        X, \n",
    "                                                        y,\n",
    "                                                        # Number of folds in cross-validation\n",
    "                                                        cv=10,\n",
    "                                                        # Evaluation metric\n",
    "                                                        scoring='accuracy',\n",
    "                                                        # Use all computer cores\n",
    "                                                        n_jobs=-1, \n",
    "                                                        # 50 different sizes of the training set\n",
    "                                                        train_sizes=np.linspace(0.01, 1.0, 50))\n",
    "\n",
    "# Create means and standard deviations of training set scores\n",
    "train_mean = np.mean(train_scores, axis=1)\n",
    "train_std = np.std(train_scores, axis=1)\n",
    "\n",
    "# Create means and standard deviations of test set scores\n",
    "test_mean = np.mean(test_scores, axis=1)\n",
    "test_std = np.std(test_scores, axis=1)\n",
    "\n",
    "# Draw lines\n",
    "plt.plot(train_sizes, train_mean, '--', color=\"#111111\",  label=\"Training score\")\n",
    "plt.plot(train_sizes, test_mean, color=\"#111111\", label=\"Cross-validation score\")\n",
    "\n",
    "# Draw bands\n",
    "plt.fill_between(train_sizes, train_mean - train_std, train_mean + train_std, color=\"#DDDDDD\")\n",
    "plt.fill_between(train_sizes, test_mean - test_std, test_mean + test_std, color=\"#DDDDDD\")\n",
    "\n",
    "# Create plot\n",
    "plt.title(\"Learning Curve\")\n",
    "plt.xlabel(\"Training Set Size\"), plt.ylabel(\"Accuracy Score\"), plt.legend(loc=\"best\")\n",
    "plt.tight_layout()\n",
    "plt.show()"
   ]
  },
  {
   "cell_type": "code",
   "execution_count": 4,
   "metadata": {},
   "outputs": [
    {
     "ename": "NameError",
     "evalue": "name 'X' is not defined",
     "output_type": "error",
     "traceback": [
      "\u001b[1;31m---------------------------------------------------------------------------\u001b[0m",
      "\u001b[1;31mNameError\u001b[0m                                 Traceback (most recent call last)",
      "\u001b[1;32m<ipython-input-4-b5fec669aca1>\u001b[0m in \u001b[0;36m<module>\u001b[1;34m\u001b[0m\n\u001b[1;32m----> 1\u001b[1;33m \u001b[0mX\u001b[0m\u001b[1;33m\u001b[0m\u001b[0m\n\u001b[0m",
      "\u001b[1;31mNameError\u001b[0m: name 'X' is not defined"
     ]
    }
   ],
   "source": [
    "X"
   ]
  },
  {
   "cell_type": "code",
   "execution_count": 5,
   "metadata": {},
   "outputs": [
    {
     "ename": "NameError",
     "evalue": "name 'y' is not defined",
     "output_type": "error",
     "traceback": [
      "\u001b[1;31m---------------------------------------------------------------------------\u001b[0m",
      "\u001b[1;31mNameError\u001b[0m                                 Traceback (most recent call last)",
      "\u001b[1;32m<ipython-input-5-9063a9f0e032>\u001b[0m in \u001b[0;36m<module>\u001b[1;34m\u001b[0m\n\u001b[1;32m----> 1\u001b[1;33m \u001b[0my\u001b[0m\u001b[1;33m\u001b[0m\u001b[0m\n\u001b[0m",
      "\u001b[1;31mNameError\u001b[0m: name 'y' is not defined"
     ]
    }
   ],
   "source": [
    "y"
   ]
  },
  {
   "cell_type": "code",
   "execution_count": null,
   "metadata": {},
   "outputs": [],
   "source": []
  },
  {
   "cell_type": "code",
   "execution_count": null,
   "metadata": {},
   "outputs": [],
   "source": []
  }
 ],
 "metadata": {
  "kernelspec": {
   "display_name": "Python 3",
   "language": "python",
   "name": "python3"
  },
  "language_info": {
   "codemirror_mode": {
    "name": "ipython",
    "version": 3
   },
   "file_extension": ".py",
   "mimetype": "text/x-python",
   "name": "python",
   "nbconvert_exporter": "python",
   "pygments_lexer": "ipython3",
   "version": "3.6.1"
  }
 },
 "nbformat": 4,
 "nbformat_minor": 2
}
